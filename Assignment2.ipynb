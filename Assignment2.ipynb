{
 "cells": [
  {
   "cell_type": "markdown",
   "id": "6df78c83",
   "metadata": {},
   "source": [
    "# Q1. How do you comment code in Python? What are the different types of comments?"
   ]
  },
  {
   "cell_type": "markdown",
   "id": "feda03de",
   "metadata": {},
   "source": [
    "# Ans:- You can comment your code to make it more understandable and provide explanations for yourself and other developers.\n",
    "\n",
    "There are two ways/types to add comments:-\n",
    "\n",
    "1- single-line comments\n",
    "\n",
    "2- Multi-line comments"
   ]
  },
  {
   "cell_type": "code",
   "execution_count": 1,
   "id": "c08a93cf",
   "metadata": {},
   "outputs": [],
   "source": [
    "# To create a single-line comment, you can use the hash symbol (#) at the beginning of the line. Anything following the hash symbol on the same line is considered a comment and is ignored by the Python interpreter"
   ]
  },
  {
   "cell_type": "code",
   "execution_count": 2,
   "id": "a48e32be",
   "metadata": {},
   "outputs": [
    {
     "data": {
      "text/plain": [
       "'To add multi-line comments, you have a couple of options.\\nOne way is to use triple quotes () or double quotes (\"\"\" \"\"\") to enclose your comment. \\nAnything within these quotes, spanning multiple lines, is considered a comment and is ignored'"
      ]
     },
     "execution_count": 2,
     "metadata": {},
     "output_type": "execute_result"
    }
   ],
   "source": [
    "'''To add multi-line comments, you have a couple of options.\n",
    "One way is to use triple quotes (''' ''') or double quotes (\"\"\" \"\"\") to enclose your comment. \n",
    "Anything within these quotes, spanning multiple lines, is considered a comment and is ignored'''"
   ]
  },
  {
   "cell_type": "markdown",
   "id": "653f00a4",
   "metadata": {},
   "source": [
    "# Q2. What are variables in Python? How do you declare and assign values to variables?"
   ]
  },
  {
   "cell_type": "raw",
   "id": "4c0f635e",
   "metadata": {},
   "source": [
    "variables are used to store and manipulate data. They act as containers for values that can be referenced by a name."
   ]
  },
  {
   "cell_type": "raw",
   "id": "42c8bd84",
   "metadata": {},
   "source": [
    "To declare a variable in Python, you simply choose a name for the variable and use the assignment operator ('=') to assign a value to it"
   ]
  },
  {
   "cell_type": "code",
   "execution_count": 3,
   "id": "26e788ba",
   "metadata": {},
   "outputs": [],
   "source": [
    "# Example\n",
    "var1 = 345"
   ]
  },
  {
   "cell_type": "code",
   "execution_count": 4,
   "id": "ee0ff403",
   "metadata": {},
   "outputs": [
    {
     "data": {
      "text/plain": [
       "345"
      ]
     },
     "execution_count": 4,
     "metadata": {},
     "output_type": "execute_result"
    }
   ],
   "source": [
    "var1"
   ]
  },
  {
   "cell_type": "markdown",
   "id": "5748a19e",
   "metadata": {},
   "source": [
    "# Q3. How do you convert one data type to another in Python?"
   ]
  },
  {
   "cell_type": "raw",
   "id": "fcc60a91",
   "metadata": {},
   "source": [
    "you can convert one data type to another using type conversion functions or by using the built-in constructor functions of the desired data type."
   ]
  },
  {
   "cell_type": "code",
   "execution_count": 5,
   "id": "658f290e",
   "metadata": {},
   "outputs": [],
   "source": [
    "# Example\n",
    "x = int(\"678\")"
   ]
  },
  {
   "cell_type": "code",
   "execution_count": 6,
   "id": "811dad0a",
   "metadata": {},
   "outputs": [
    {
     "data": {
      "text/plain": [
       "int"
      ]
     },
     "execution_count": 6,
     "metadata": {},
     "output_type": "execute_result"
    }
   ],
   "source": [
    "type(x)"
   ]
  },
  {
   "cell_type": "markdown",
   "id": "f217adc1",
   "metadata": {},
   "source": [
    "# Q4. How do you write and execute a Python script from the command line?"
   ]
  },
  {
   "cell_type": "raw",
   "id": "9e30ab25",
   "metadata": {},
   "source": [
    "1. Open a text editor(ex. Notepad, sublime text, visual studio code) of your choice.\n",
    "2. Write your Python code in the text editor.\n",
    "3. Save the file with a .py extension. Choose a filename that is descriptive and ends with '.py'. For example, you can save the file as 'script.py'\n",
    "4. Open a command prompt or terminal window. The steps to do this depend on your operating system.\n",
    "5. Navigate to the directory where you saved your Python script using the 'cd' command. For example, if your script is located in the Documents folder, you can use the command 'cd Documents'.\n",
    "6. Once you are in the correct directory, you can run the Python script by typing python followed by the script's filename. For example: 'pyhon script.py'\n",
    "7. Press the Enter key to execute the script."
   ]
  },
  {
   "cell_type": "markdown",
   "id": "f2919fab",
   "metadata": {},
   "source": [
    "# Q5. Given a list my_list = [1, 2, 3, 4, 5], write the code to slice the list and obtain the sub-list [2, 3]."
   ]
  },
  {
   "cell_type": "code",
   "execution_count": 7,
   "id": "7a09ed78",
   "metadata": {},
   "outputs": [],
   "source": [
    "my_list = [1, 2, 3, 4, 5]"
   ]
  },
  {
   "cell_type": "code",
   "execution_count": 8,
   "id": "28d8056b",
   "metadata": {},
   "outputs": [],
   "source": [
    "sub_list = my_list[1:3]"
   ]
  },
  {
   "cell_type": "code",
   "execution_count": 9,
   "id": "27e5378f",
   "metadata": {},
   "outputs": [
    {
     "data": {
      "text/plain": [
       "[2, 3]"
      ]
     },
     "execution_count": 9,
     "metadata": {},
     "output_type": "execute_result"
    }
   ],
   "source": [
    "sub_list"
   ]
  },
  {
   "cell_type": "markdown",
   "id": "5fbe18b5",
   "metadata": {},
   "source": [
    "# Q6. What is a complex number in mathematics, and how is it represented in Python?"
   ]
  },
  {
   "cell_type": "raw",
   "id": "846d9f2f",
   "metadata": {},
   "source": [
    "In mathematics, a complex number is a number that comprises a real part and an imaginary part. It is expressed in the form \"a + bi\", where \"a\" represents the real part, \"b\" represents the imaginary part, and \"i\" represents the imaginary unit, which is defined as the square root of -1."
   ]
  },
  {
   "cell_type": "raw",
   "id": "d4673a21",
   "metadata": {},
   "source": [
    "In python Complex numbers are created from two real numbers. You can create it directly or you can use the complex function. It is written in the form of (x + yj) where x and y are real numbers and j is an imaginary number which is the square root of -1."
   ]
  },
  {
   "cell_type": "markdown",
   "id": "1ebd388f",
   "metadata": {},
   "source": [
    "# Q7. What is the correct way to declare a variable named age and assign the value 25 to it?"
   ]
  },
  {
   "cell_type": "code",
   "execution_count": 10,
   "id": "d67df42a",
   "metadata": {},
   "outputs": [],
   "source": [
    "age = 25"
   ]
  },
  {
   "cell_type": "code",
   "execution_count": 11,
   "id": "58568c50",
   "metadata": {},
   "outputs": [
    {
     "data": {
      "text/plain": [
       "25"
      ]
     },
     "execution_count": 11,
     "metadata": {},
     "output_type": "execute_result"
    }
   ],
   "source": [
    "age"
   ]
  },
  {
   "cell_type": "markdown",
   "id": "c77aa134",
   "metadata": {},
   "source": [
    "# Q8. Declare a variable named price and assign the value 9.99 to it. What data type does this variable belong to?"
   ]
  },
  {
   "cell_type": "code",
   "execution_count": 12,
   "id": "b1ac2ab6",
   "metadata": {},
   "outputs": [],
   "source": [
    "price = 9.99"
   ]
  },
  {
   "cell_type": "code",
   "execution_count": 13,
   "id": "7494f685",
   "metadata": {},
   "outputs": [
    {
     "data": {
      "text/plain": [
       "float"
      ]
     },
     "execution_count": 13,
     "metadata": {},
     "output_type": "execute_result"
    }
   ],
   "source": [
    "type(price)"
   ]
  },
  {
   "cell_type": "markdown",
   "id": "bf6061bb",
   "metadata": {},
   "source": [
    "# Q9. Create a variable named name and assign your full name to it as a string. How would you print the value of this variable?"
   ]
  },
  {
   "cell_type": "code",
   "execution_count": 14,
   "id": "675977bc",
   "metadata": {},
   "outputs": [],
   "source": [
    "Name = \"Anup Prakash Nalawade\""
   ]
  },
  {
   "cell_type": "code",
   "execution_count": 15,
   "id": "6834c777",
   "metadata": {},
   "outputs": [
    {
     "data": {
      "text/plain": [
       "'Anup Prakash Nalawade'"
      ]
     },
     "execution_count": 15,
     "metadata": {},
     "output_type": "execute_result"
    }
   ],
   "source": [
    "Name"
   ]
  },
  {
   "cell_type": "markdown",
   "id": "47b6a4c2",
   "metadata": {},
   "source": [
    "# Q10. Given the string \"Hello, World!\", extract the substring \"World\"."
   ]
  },
  {
   "cell_type": "code",
   "execution_count": 16,
   "id": "4abc680a",
   "metadata": {},
   "outputs": [],
   "source": [
    "str_ = \"Hello, World!\""
   ]
  },
  {
   "cell_type": "code",
   "execution_count": 17,
   "id": "19aa82d4",
   "metadata": {},
   "outputs": [
    {
     "data": {
      "text/plain": [
       "'World'"
      ]
     },
     "execution_count": 17,
     "metadata": {},
     "output_type": "execute_result"
    }
   ],
   "source": [
    "str_[7:12]"
   ]
  },
  {
   "cell_type": "markdown",
   "id": "52fb54a2",
   "metadata": {},
   "source": [
    "# Q11. Create a variable named \"is_student\" and assign it a boolean value indicating whether you are currently a student or not."
   ]
  },
  {
   "cell_type": "code",
   "execution_count": 18,
   "id": "63a22276",
   "metadata": {},
   "outputs": [],
   "source": [
    "is_student = True"
   ]
  },
  {
   "cell_type": "code",
   "execution_count": 19,
   "id": "ca8dceb1",
   "metadata": {},
   "outputs": [
    {
     "data": {
      "text/plain": [
       "True"
      ]
     },
     "execution_count": 19,
     "metadata": {},
     "output_type": "execute_result"
    }
   ],
   "source": [
    "is_student"
   ]
  },
  {
   "cell_type": "code",
   "execution_count": null,
   "id": "4c42b4fd",
   "metadata": {},
   "outputs": [],
   "source": []
  }
 ],
 "metadata": {
  "kernelspec": {
   "display_name": "Python 3 (ipykernel)",
   "language": "python",
   "name": "python3"
  },
  "language_info": {
   "codemirror_mode": {
    "name": "ipython",
    "version": 3
   },
   "file_extension": ".py",
   "mimetype": "text/x-python",
   "name": "python",
   "nbconvert_exporter": "python",
   "pygments_lexer": "ipython3",
   "version": "3.10.4"
  }
 },
 "nbformat": 4,
 "nbformat_minor": 5
}
